{
 "cells": [
  {
   "cell_type": "code",
   "execution_count": 20,
   "metadata": {},
   "outputs": [],
   "source": [
    "from nltk.tokenize import sent_tokenize, word_tokenize \n",
    "import gensim \n",
    "from gensim.models import Word2Vec\n",
    "from nltk.corpus import stopwords\n",
    "from nltk.tokenize.regexp import RegexpTokenizer\n",
    "\n",
    "# get the text\n",
    "file = open(\"extrait_vol_de_nuit.txt\", \"r\")\n",
    "text = file.read()\n",
    "file.close()\n",
    "\n",
    "# replace escape character with space\n",
    "text = text.replace(\"\\n\", \" \") \n",
    "\n",
    "tokenizer = RegexpTokenizer('[a-zA-Zé]{2,}')\n",
    "test = tokenizer.tokenize(text.lower())\n",
    "\n",
    "data = [] \n",
    "\n",
    "# for each sentence in the text : tokenize the sentence into words\n",
    "for i in sent_tokenize(text): \n",
    "    temp = [] \n",
    "    for j in word_tokenize(i): \n",
    "        temp.append(j.lower()) \n",
    "  \n",
    "    data.append(temp)\n",
    "    \n",
    "# remove stop words \n",
    "stop_words = stopwords.words('french') \n",
    "filtered_words = [word for word in data if word not in stop_words]"
   ]
  },
  {
   "cell_type": "code",
   "execution_count": 22,
   "metadata": {},
   "outputs": [],
   "source": [
    "model1 = gensim.models.Word2Vec(filtered_words, min_count = 1,  \n",
    "                              size = 100, window = 5) \n",
    "model2 = gensim.models.Word2Vec(filtered_words, min_count = 1, size = 100, \n",
    "                                             window = 5, sg = 1) "
   ]
  },
  {
   "cell_type": "code",
   "execution_count": 33,
   "metadata": {},
   "outputs": [
    {
     "name": "stdout",
     "output_type": "stream",
     "text": [
      "Cosine similarity between 'avion' and 'carlingue' - CBOW :  0.0100526735\n",
      "Cosine similarity between 'avion' and 'carlingue' - Skip Gram :  0.087991506\n"
     ]
    },
    {
     "name": "stderr",
     "output_type": "stream",
     "text": [
      "<ipython-input-33-38b5ef553af8>:3: DeprecationWarning: Call to deprecated `similarity` (Method will be removed in 4.0.0, use self.wv.similarity() instead).\n",
      "  model1.similarity('avion', 'carlingue'))\n",
      "<ipython-input-33-38b5ef553af8>:7: DeprecationWarning: Call to deprecated `similarity` (Method will be removed in 4.0.0, use self.wv.similarity() instead).\n",
      "  model2.similarity('avion', 'carlingue'))\n"
     ]
    }
   ],
   "source": [
    "print(\"Cosine similarity between 'avion' \" + \n",
    "               \"and 'carlingue' - CBOW : \", \n",
    "    model1.similarity('avion', 'carlingue')) \n",
    "      \n",
    "print(\"Cosine similarity between 'avion' \" +\n",
    "                 \"and 'carlingue' - Skip Gram : \", \n",
    "      model2.similarity('avion', 'carlingue')) "
   ]
  },
  {
   "cell_type": "code",
   "execution_count": 36,
   "metadata": {},
   "outputs": [
    {
     "name": "stdout",
     "output_type": "stream",
     "text": [
      "CBOW:  [('basses', 0.313690185546875), ('arbre', 0.2779439389705658), ('glissait', 0.24738553166389465), ('suspendu', 0.24560680985450745), ('enfin', 0.24334195256233215), ('secrétaires', 0.23164445161819458), ('ciel', 0.23000545799732208), ('départ', 0.22541707754135132), ('orgue', 0.21096870303153992), ('chant', 0.20456616580486298)]\n",
      "Skip Gram:  [(',', 0.49236857891082764), ('de', 0.4726378321647644), ('basses', 0.4123944640159607), ('il', 0.4087466895580292), ('qu', 0.40015193819999695), ('un', 0.39482223987579346), ('le', 0.38832172751426697), ('lui', 0.3822013735771179), ('secrétaires', 0.38010188937187195), ('son', 0.3796359896659851)]\n"
     ]
    },
    {
     "name": "stderr",
     "output_type": "stream",
     "text": [
      "<ipython-input-36-31cf0fd601a5>:1: DeprecationWarning: Call to deprecated `most_similar` (Method will be removed in 4.0.0, use self.wv.most_similar() instead).\n",
      "  print('CBOW: ' , model1.most_similar('avion'))\n",
      "<ipython-input-36-31cf0fd601a5>:2: DeprecationWarning: Call to deprecated `most_similar` (Method will be removed in 4.0.0, use self.wv.most_similar() instead).\n",
      "  print('Skip Gram: ' , model2.most_similar('avion'))\n"
     ]
    }
   ],
   "source": [
    "print('CBOW: ' , model1.most_similar('avion'))\n",
    "print('Skip Gram: ' , model2.most_similar('avion'))"
   ]
  }
 ],
 "metadata": {
  "kernelspec": {
   "display_name": "Python 3",
   "language": "python",
   "name": "python3"
  },
  "language_info": {
   "codemirror_mode": {
    "name": "ipython",
    "version": 3
   },
   "file_extension": ".py",
   "mimetype": "text/x-python",
   "name": "python",
   "nbconvert_exporter": "python",
   "pygments_lexer": "ipython3",
   "version": "3.8.3"
  }
 },
 "nbformat": 4,
 "nbformat_minor": 4
}
